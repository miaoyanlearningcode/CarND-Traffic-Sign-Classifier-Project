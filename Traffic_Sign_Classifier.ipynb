{
 "cells": [
  {
   "cell_type": "markdown",
   "metadata": {
    "deletable": true,
    "editable": true
   },
   "source": [
    "# Self-Driving Car Engineer Nanodegree\n",
    "\n",
    "## Deep Learning\n",
    "\n",
    "## Project: Build a Traffic Sign Recognition Classifier\n",
    "\n",
    "In this notebook, a template is provided for you to implement your functionality in stages, which is required to successfully complete this project. If additional code is required that cannot be included in the notebook, be sure that the Python code is successfully imported and included in your submission if necessary. \n",
    "\n",
    "> **Note**: Once you have completed all of the code implementations, you need to finalize your work by exporting the iPython Notebook as an HTML document. Before exporting the notebook to html, all of the code cells need to have been run so that reviewers can see the final implementation and output. You can then export the notebook by using the menu above and navigating to  \\n\",\n",
    "    \"**File -> Download as -> HTML (.html)**. Include the finished document along with this notebook as your submission. \n",
    "\n",
    "In addition to implementing code, there is a writeup to complete. The writeup should be completed in a separate file, which can be either a markdown file or a pdf document. There is a [write up template](https://github.com/udacity/CarND-Traffic-Sign-Classifier-Project/blob/master/writeup_template.md) that can be used to guide the writing process. Completing the code template and writeup template will cover all of the [rubric points](https://review.udacity.com/#!/rubrics/481/view) for this project.\n",
    "\n",
    "The [rubric](https://review.udacity.com/#!/rubrics/481/view) contains \"Stand Out Suggestions\" for enhancing the project beyond the minimum requirements. The stand out suggestions are optional. If you decide to pursue the \"stand out suggestions\", you can include the code in this Ipython notebook and also discuss the results in the writeup file.\n",
    "\n",
    "\n",
    ">**Note:** Code and Markdown cells can be executed using the **Shift + Enter** keyboard shortcut. In addition, Markdown cells can be edited by typically double-clicking the cell to enter edit mode."
   ]
  },
  {
   "cell_type": "markdown",
   "metadata": {
    "deletable": true,
    "editable": true
   },
   "source": [
    "---\n",
    "## Step 0: Load The Data"
   ]
  },
  {
   "cell_type": "code",
   "execution_count": 53,
   "metadata": {
    "collapsed": false,
    "deletable": true,
    "editable": true
   },
   "outputs": [
    {
     "name": "stdout",
     "output_type": "stream",
     "text": [
      "(34799, 32, 32, 3)\n",
      "(4410, 32, 32, 3)\n",
      "(12630, 32, 32, 3)\n"
     ]
    }
   ],
   "source": [
    "# Load pickled data\n",
    "import pickle\n",
    "\n",
    "# TODO: Fill this in based on where you saved the training and testing data\n",
    "\n",
    "training_file = '../data/train.p'\n",
    "validation_file='../data/valid.p'\n",
    "testing_file = '../data/test.p'\n",
    "\n",
    "with open(training_file, mode='rb') as f:\n",
    "    train = pickle.load(f)\n",
    "with open(validation_file, mode='rb') as f:\n",
    "    valid = pickle.load(f)\n",
    "with open(testing_file, mode='rb') as f:\n",
    "    test = pickle.load(f)\n",
    "    \n",
    "X_train, y_train = train['features'], train['labels']\n",
    "print (X_train.shape)\n",
    "X_valid, y_valid = valid['features'], valid['labels']\n",
    "print (X_valid.shape)\n",
    "X_test, y_test = test['features'], test['labels']\n",
    "print (X_test.shape)"
   ]
  },
  {
   "cell_type": "markdown",
   "metadata": {
    "deletable": true,
    "editable": true
   },
   "source": [
    "---\n",
    "\n",
    "## Step 1: Dataset Summary & Exploration\n",
    "\n",
    "The pickled data is a dictionary with 4 key/value pairs:\n",
    "\n",
    "- `'features'` is a 4D array containing raw pixel data of the traffic sign images, (num examples, width, height, channels).\n",
    "- `'labels'` is a 1D array containing the label/class id of the traffic sign. The file `signnames.csv` contains id -> name mappings for each id.\n",
    "- `'sizes'` is a list containing tuples, (width, height) representing the the original width and height the image.\n",
    "- `'coords'` is a list containing tuples, (x1, y1, x2, y2) representing coordinates of a bounding box around the sign in the image. **THESE COORDINATES ASSUME THE ORIGINAL IMAGE. THE PICKLED DATA CONTAINS RESIZED VERSIONS (32 by 32) OF THESE IMAGES**\n",
    "\n",
    "Complete the basic data summary below. Use python, numpy and/or pandas methods to calculate the data summary rather than hard coding the results. For example, the [pandas shape method](http://pandas.pydata.org/pandas-docs/stable/generated/pandas.DataFrame.shape.html) might be useful for calculating some of the summary results. "
   ]
  },
  {
   "cell_type": "markdown",
   "metadata": {
    "deletable": true,
    "editable": true
   },
   "source": [
    "### Provide a Basic Summary of the Data Set Using Python, Numpy and/or Pandas"
   ]
  },
  {
   "cell_type": "code",
   "execution_count": 54,
   "metadata": {
    "collapsed": false,
    "deletable": true,
    "editable": true
   },
   "outputs": [
    {
     "name": "stdout",
     "output_type": "stream",
     "text": [
      "Number of training examples = 34799\n",
      "Number of testing examples = 12630\n",
      "Image data shape = (32, 32, 3)\n",
      "Number of classes = 43\n"
     ]
    }
   ],
   "source": [
    "### Replace each question mark with the appropriate value. \n",
    "### Use python, pandas or numpy methods rather than hard coding the results\n",
    "import numpy as np\n",
    "# TODO: Number of training examples\n",
    "n_train = X_train.shape[0]\n",
    "\n",
    "# TODO: Number of testing examples.\n",
    "n_test = X_test.shape[0]\n",
    "\n",
    "# TODO: What's the shape of an traffic sign image?\n",
    "image_shape = X_train[0].shape\n",
    "\n",
    "# TODO: How many unique classes/labels there are in the dataset.\n",
    "n_classes = len(np.unique(y_train))\n",
    "\n",
    "print(\"Number of training examples =\", n_train)\n",
    "print(\"Number of testing examples =\", n_test)\n",
    "print(\"Image data shape =\", image_shape)\n",
    "print(\"Number of classes =\", n_classes)"
   ]
  },
  {
   "cell_type": "markdown",
   "metadata": {
    "deletable": true,
    "editable": true
   },
   "source": [
    "### Include an exploratory visualization of the dataset"
   ]
  },
  {
   "cell_type": "markdown",
   "metadata": {
    "deletable": true,
    "editable": true
   },
   "source": [
    "Visualize the German Traffic Signs Dataset using the pickled file(s). This is open ended, suggestions include: plotting traffic sign images, plotting the count of each sign, etc.\n",
    "\n",
    "The [Matplotlib](http://matplotlib.org/) [examples](http://matplotlib.org/examples/index.html) and [gallery](http://matplotlib.org/gallery.html) pages are a great resource for doing visualizations in Python.\n",
    "\n",
    "**NOTE:** It's recommended you start with something simple first. If you wish to do more, come back to it after you've completed the rest of the sections."
   ]
  },
  {
   "cell_type": "code",
   "execution_count": 55,
   "metadata": {
    "collapsed": false,
    "deletable": true,
    "editable": true
   },
   "outputs": [
    {
     "data": {
      "image/png": "[encoded data removed]",
      "text/plain": [
       "<matplotlib.figure.Figure at 0x7f1960594780>"
      ]
     },
     "metadata": {},
     "output_type": "display_data"
    },
    {
     "data": {
      "text/plain": [
       "(array([  210.,  2220.,  2250.,  1410.,  1980.,  1860.,   420.,  1440.,\n",
       "         1410.,  1470.,  2010.,  1320.,  2100.,  2160.,   780.,   630.,\n",
       "          420.,  1110.,  1200.,   210.,   360.,   330.,   390.,   510.,\n",
       "          270.,  1500.,   600.,   240.,   540.,   270.,   450.,   780.,\n",
       "          240.,   689.,   420.,  1200.,   390.,   210.,  2070.,   300.,\n",
       "          360.,   240.,   240.]),\n",
       " array([ 0,  1,  2,  3,  4,  5,  6,  7,  8,  9, 10, 11, 12, 13, 14, 15, 16,\n",
       "        17, 18, 19, 20, 21, 22, 23, 24, 25, 26, 27, 28, 29, 30, 31, 32, 33,\n",
       "        34, 35, 36, 37, 38, 39, 40, 41, 42, 43]),\n",
       " <a list of 43 Patch objects>)"
      ]
     },
     "execution_count": 55,
     "metadata": {},
     "output_type": "execute_result"
    },
    {
     "data": {
      "image/png": "[encoded data removed]",
      "text/plain": [
       "<matplotlib.figure.Figure at 0x7f1960597c88>"
      ]
     },
     "metadata": {},
     "output_type": "display_data"
    }
   ],
   "source": [
    "### Data exploration visualization code goes here.\n",
    "### Feel free to use as many code cells as needed.\n",
    "import random\n",
    "import matplotlib.pyplot as plt\n",
    "# Visualizations will be shown in the notebook.\n",
    "%matplotlib inline\n",
    "index = random.randint(0, n_train)\n",
    "plt.imshow(X_train[index])\n",
    "plt.show()\n",
    "X_all = np.concatenate((X_train, X_valid), axis=0)\n",
    "y_all = np.concatenate((y_train, y_valid), axis=0)\n",
    "plt.hist(y_all,bins=range(n_classes+1))"
   ]
  },
  {
   "cell_type": "markdown",
   "metadata": {
    "deletable": true,
    "editable": true
   },
   "source": [
    "----\n",
    "\n",
    "## Step 2: Design and Test a Model Architecture\n",
    "\n",
    "Design and implement a deep learning model that learns to recognize traffic signs. Train and test your model on the [German Traffic Sign Dataset](http://benchmark.ini.rub.de/?section=gtsrb&subsection=dataset).\n",
    "\n",
    "There are various aspects to consider when thinking about this problem:\n",
    "\n",
    "- Neural network architecture\n",
    "- Play around preprocessing techniques (normalization, rgb to grayscale, etc)\n",
    "- Number of examples per label (some have more than others).\n",
    "- Generate fake data.\n",
    "\n",
    "Here is an example of a [published baseline model on this problem](http://yann.lecun.com/exdb/publis/pdf/sermanet-ijcnn-11.pdf). It's not required to be familiar with the approach used in the paper but, it's good practice to try to read papers like these.\n",
    "\n",
    "**NOTE:** The LeNet-5 implementation shown in the [classroom](https://classroom.udacity.com/nanodegrees/nd013/parts/fbf77062-5703-404e-b60c-95b78b2f3f9e/modules/6df7ae49-c61c-4bb2-a23e-6527e69209ec/lessons/601ae704-1035-4287-8b11-e2c2716217ad/concepts/d4aca031-508f-4e0b-b493-e7b706120f81) at the end of the CNN lesson is a solid starting point. You'll have to change the number of classes and possibly the preprocessing, but aside from that it's plug and play!"
   ]
  },
  {
   "cell_type": "markdown",
   "metadata": {
    "deletable": true,
    "editable": true
   },
   "source": [
    "### Pre-process the Data Set (normalization, grayscale, etc.)"
   ]
  },
  {
   "cell_type": "markdown",
   "metadata": {
    "deletable": true,
    "editable": true
   },
   "source": [
    "Use the code cell (or multiple code cells, if necessary) to implement the first step of your project.\n",
    "Generate the fake data if the number of certain label is too small. \n",
    "\n"
   ]
  },
  {
   "cell_type": "code",
   "execution_count": 56,
   "metadata": {
    "collapsed": false,
    "deletable": true,
    "editable": true,
    "scrolled": true
   },
   "outputs": [
    {
     "name": "stdout",
     "output_type": "stream",
     "text": [
      "[ 82.95048152  76.92215014  79.62680377] [ 69.25778945  66.4198854   68.48197063]\n"
     ]
    },
    {
     "data": {
      "image/png": "[encoded data removed]",
      "text/plain": [
       "<matplotlib.figure.Figure at 0x7f1953bcd358>"
      ]
     },
     "metadata": {},
     "output_type": "display_data"
    }
   ],
   "source": [
    "### Preprocess the data here. Preprocessing steps could include normalization, converting to grayscale, etc.\n",
    "### Feel free to use as many code cells as needed.\n",
    "# generate fake data so that each label has similar number of data\n",
    "from scipy import ndimage\n",
    "class_count = np.bincount(y_all)\n",
    "data_scale = max(class_count) / class_count\n",
    "data_scale = data_scale.astype(int)\n",
    "\n",
    "for i in range(n_classes):\n",
    "    labelPos = np.where(y_all==i)\n",
    "    if data_scale[i] > 1:\n",
    "        rotAng = np.linspace(-15,15,data_scale[i]-1)\n",
    "        newImg = []\n",
    "        newLab = []\n",
    "        for img in X_all[labelPos]:\n",
    "            for ang in rotAng:\n",
    "                newLab.append(i)\n",
    "                newImg.append(ndimage.interpolation.rotate(img, ang,reshape=False))\n",
    "        X_all = np.append(X_all, newImg, axis = 0)\n",
    "        y_all = np.append(y_all, newLab, axis = 0)\n",
    "plt.hist(y_all,bins=range(n_classes+1))\n",
    "print (np.mean(X_all, axis=(0,1,2)), np.std(X_all, axis=(0,1,2)))\n",
    "\n"
   ]
  },
  {
   "cell_type": "markdown",
   "metadata": {
    "deletable": true,
    "editable": true
   },
   "source": [
    "#### Normalization of Image"
   ]
  },
  {
   "cell_type": "code",
   "execution_count": 57,
   "metadata": {
    "collapsed": false,
    "deletable": true,
    "editable": true,
    "scrolled": false
   },
   "outputs": [],
   "source": [
    "def imgNorm(data):\n",
    "    mean_all = np.mean(data, axis=(1,2))\n",
    "    std_all  = np.std(data, axis=(1,2))\n",
    "    data_shape = data.shape\n",
    "    data = data.astype(float)\n",
    "    for i in range(data_shape[0]):\n",
    "        data[i] = (data[i] - mean_all[i])/std_all[i]\n",
    "    \n",
    "    return data"
   ]
  },
  {
   "cell_type": "code",
   "execution_count": 58,
   "metadata": {
    "collapsed": false,
    "deletable": true,
    "editable": true
   },
   "outputs": [
    {
     "data": {
      "text/plain": [
       "<matplotlib.image.AxesImage at 0x7f196e77c710>"
      ]
     },
     "execution_count": 58,
     "metadata": {},
     "output_type": "execute_result"
    },
    {
     "data": {
      "image/png": "[encoded data removed]",
      "text/plain": [
       "<matplotlib.figure.Figure at 0x7f1953be6cc0>"
      ]
     },
     "metadata": {},
     "output_type": "display_data"
    }
   ],
   "source": [
    "Img_all = imgNorm(X_all)\n",
    "# print (np.mean(X_all, axis=(1,2))[0], np.std(X_all, axis=(1,2))[0])\n",
    "# print (X_all[0])\n",
    "# print (Img_all[0])\n",
    "Img_test = imgNorm(X_test)\n",
    "\n",
    "index = random.randint(0, n_all)\n",
    "plt.imshow(Img_all[index])"
   ]
  },
  {
   "cell_type": "markdown",
   "metadata": {
    "deletable": true,
    "editable": true
   },
   "source": [
    "### Model Architecture"
   ]
  },
  {
   "cell_type": "code",
   "execution_count": 68,
   "metadata": {
    "collapsed": true,
    "deletable": true,
    "editable": true
   },
   "outputs": [],
   "source": [
    "### Define your architecture here.\n",
    "### Feel free to use as many code cells as needed.\n",
    "import tensorflow as tf\n",
    "from tensorflow.contrib.layers import flatten\n",
    "\n",
    "def LeNet(images, prob_Dropout):    \n",
    "    # Arguments used for tf.truncated_normal, randomly defines variables for the weights and biases for each layer\n",
    "    mu = 0\n",
    "    sigma = 0.1\n",
    "    # Layer1 Convolution\n",
    "    conv1_W = tf.Variable(tf.truncated_normal(shape=(5, 5, 3, 6), mean = mu, stddev = sigma))\n",
    "    conv1_b = tf.Variable(tf.zeros(6))\n",
    "    conv1   = tf.nn.conv2d(images, conv1_W, strides=[1, 1, 1, 1], padding='VALID') + conv1_b\n",
    "\n",
    "    # L1 Activation\n",
    "    conv1 = tf.nn.relu(conv1)\n",
    "\n",
    "    # L1 MAX_Pooling\n",
    "    conv1 = tf.nn.max_pool(conv1, ksize=[1, 2, 2, 1], strides=[1, 2, 2, 1], padding='VALID')\n",
    "\n",
    "    # Layer 2 Convolutional\n",
    "    conv2_W = tf.Variable(tf.truncated_normal(shape=(5, 5, 6, 16), mean = mu, stddev = sigma))\n",
    "    conv2_b = tf.Variable(tf.zeros(16))\n",
    "    conv2   = tf.nn.conv2d(conv1, conv2_W, strides=[1, 1, 1, 1], padding='VALID') + conv2_b\n",
    "    \n",
    "    # L2 Activation.\n",
    "    conv2 = tf.nn.relu(conv2)\n",
    "\n",
    "    # L2 MAX_Pooling\n",
    "    conv2 = tf.nn.max_pool(conv2, ksize=[1, 2, 2, 1], strides=[1, 2, 2, 1], padding='VALID')\n",
    "\n",
    "    # L2 Flatten\n",
    "    fc0   = flatten(conv2)\n",
    "    \n",
    "    # Layer 3 Fully Connected\n",
    "    fc1_W = tf.Variable(tf.truncated_normal(shape=(400, 120), mean = mu, stddev = sigma))\n",
    "    fc1_b = tf.Variable(tf.zeros(120))\n",
    "    fc1   = tf.matmul(fc0, fc1_W) + fc1_b\n",
    "    \n",
    "    # Layer 3 Activation.\n",
    "    fc1    = tf.nn.relu(fc1)\n",
    "#     fc1    = tf.nn.dropout(fc1,0.5)\n",
    "    \n",
    "    # Layer 4 Fully Connected\n",
    "    fc2_W  = tf.Variable(tf.truncated_normal(shape=(120, 43), mean = mu, stddev = sigma))\n",
    "    fc2_b  = tf.Variable(tf.zeros(43)) #84 before\n",
    "#     fc2    = tf.matmul(fc1, fc2_W) + fc2_b\n",
    "    logits = tf.matmul(fc1, fc2_W) + fc2_b\n",
    "\n",
    "#     # Layer 4 Activation.\n",
    "#     fc2    = tf.nn.relu(fc2)\n",
    "# #     fc2    = tf.nn.dropout(fc2,0.75)\n",
    "#     # Layer 5 Fully Connected Output = 43.\n",
    "#     fc3_W  = tf.Variable(tf.truncated_normal(shape=(84, 43), mean = mu, stddev = sigma))\n",
    "#     fc3_b  = tf.Variable(tf.zeros(43))\n",
    "#     logits = tf.matmul(fc2, fc3_W) + fc3_b\n",
    "    \n",
    "    return logits"
   ]
  },
  {
   "cell_type": "markdown",
   "metadata": {
    "deletable": true,
    "editable": true
   },
   "source": [
    "### Train, Validate and Test the Model"
   ]
  },
  {
   "cell_type": "markdown",
   "metadata": {
    "deletable": true,
    "editable": true
   },
   "source": [
    "A validation set can be used to assess how well the model is performing. A low accuracy on the training and validation\n",
    "sets imply underfitting. A high accuracy on the training set but low accuracy on the validation set implies overfitting."
   ]
  },
  {
   "cell_type": "code",
   "execution_count": 69,
   "metadata": {
    "collapsed": false,
    "deletable": true,
    "editable": true
   },
   "outputs": [
    {
     "name": "stdout",
     "output_type": "stream",
     "text": [
      "83007\n",
      "66405 16602\n"
     ]
    }
   ],
   "source": [
    "### Train your model here.\n",
    "### Calculate and report the accuracy on the training and validation set.\n",
    "### Once a final model architecture is selected, \n",
    "### the accuracy on the test set should be calculated and reported as well.\n",
    "### Feel free to use as many code cells as needed.\n",
    "from sklearn.utils import shuffle\n",
    "Img_all, y_all = shuffle(Img_all, y_all)\n",
    "print (len(Img_all))\n",
    "from sklearn.model_selection import train_test_split\n",
    "Img_train, Img_valid, y_train, y_valid = train_test_split(Img_all, y_all, test_size=0.2, stratify = y_all )\n",
    "print (len(Img_train), len(Img_valid))"
   ]
  },
  {
   "cell_type": "code",
   "execution_count": 70,
   "metadata": {
    "collapsed": false,
    "deletable": true,
    "editable": true
   },
   "outputs": [
    {
     "name": "stdout",
     "output_type": "stream",
     "text": [
      "Epoch: 0\n",
      "Valid Loss 0.00268034003123\n",
      "Valid Accuracy 0.808215877605\n",
      "Test Loss 0.00394003771169\n",
      "Test Accuracy 0.705542359462\n",
      "Epoch: 1\n",
      "Valid Loss 0.00132733375308\n",
      "Valid Accuracy 0.907842428623\n",
      "Test Loss 0.00272817908066\n",
      "Test Accuracy 0.815914489311\n",
      "Epoch: 2\n",
      "Valid Loss 0.000893749332567\n",
      "Valid Accuracy 0.939706059511\n",
      "Test Loss 0.00235902424002\n",
      "Test Accuracy 0.850435471101\n",
      "Epoch: 3\n",
      "Valid Loss 0.000687538253146\n",
      "Valid Accuracy 0.953077942417\n",
      "Test Loss 0.0021876238493\n",
      "Test Accuracy 0.864291369755\n",
      "Epoch: 4\n",
      "Valid Loss 0.000567043992898\n",
      "Valid Accuracy 0.959643416456\n",
      "Test Loss 0.00211228961899\n",
      "Test Accuracy 0.872763262074\n",
      "Epoch: 5\n",
      "Valid Loss 0.000488969193449\n",
      "Valid Accuracy 0.964100710758\n",
      "Test Loss 0.00208746205694\n",
      "Test Accuracy 0.87521773555\n",
      "Epoch: 6\n",
      "Valid Loss 0.00043553570567\n",
      "Valid Accuracy 0.967172629804\n",
      "Test Loss 0.00207981259834\n",
      "Test Accuracy 0.878701504355\n",
      "Epoch: 7\n",
      "Valid Loss 0.000395301942161\n",
      "Valid Accuracy 0.971027587038\n",
      "Test Loss 0.00207438352839\n",
      "Test Accuracy 0.880601741884\n",
      "Epoch: 8\n",
      "Valid Loss 0.00035737558379\n",
      "Valid Accuracy 0.974039272377\n",
      "Test Loss 0.00205928945909\n",
      "Test Accuracy 0.88305621536\n",
      "Epoch: 9\n",
      "Valid Loss 0.000327491017911\n",
      "Valid Accuracy 0.976448620648\n",
      "Test Loss 0.00204928629897\n",
      "Test Accuracy 0.88749010293\n",
      "Epoch: 10\n",
      "Valid Loss 0.000305753422717\n",
      "Valid Accuracy 0.978797735213\n",
      "Test Loss 0.00205203123916\n",
      "Test Accuracy 0.890498812352\n",
      "Epoch: 11\n",
      "Valid Loss 0.000289083800563\n",
      "Valid Accuracy 0.979641007108\n",
      "Test Loss 0.00205476823678\n",
      "Test Accuracy 0.894140934283\n",
      "Epoch: 12\n",
      "Valid Loss 0.000276006312803\n",
      "Valid Accuracy 0.980424045296\n",
      "Test Loss 0.00206287936001\n",
      "Test Accuracy 0.896595407759\n",
      "Epoch: 13\n",
      "Valid Loss 0.000264306975792\n",
      "Valid Accuracy 0.981568485725\n",
      "Test Loss 0.00207450084996\n",
      "Test Accuracy 0.897941409343\n",
      "Epoch: 14\n",
      "Valid Loss 0.000255151354822\n",
      "Valid Accuracy 0.982170822792\n",
      "Test Loss 0.00208735526174\n",
      "Test Accuracy 0.899762470309\n",
      "Epoch: 15\n",
      "Valid Loss 0.000252689851194\n",
      "Valid Accuracy 0.982231056499\n",
      "Test Loss 0.00213776004286\n",
      "Test Accuracy 0.899683293745\n",
      "Epoch: 16\n",
      "Valid Loss 0.000253351166402\n",
      "Valid Accuracy 0.982351523913\n",
      "Test Loss 0.00219017493517\n",
      "Test Accuracy 0.900316706255\n",
      "Epoch: 17\n",
      "Valid Loss 0.000258097585933\n",
      "Valid Accuracy 0.981568485725\n",
      "Test Loss 0.00225815514629\n",
      "Test Accuracy 0.89936658749\n",
      "Epoch: 18\n",
      "Valid Loss 0.000254932895616\n",
      "Valid Accuracy 0.981990121672\n",
      "Test Loss 0.00231554497827\n",
      "Test Accuracy 0.899604117181\n",
      "Epoch: 19\n",
      "Valid Loss 0.000246848350694\n",
      "Valid Accuracy 0.983014094687\n",
      "Test Loss 0.00237178260008\n",
      "Test Accuracy 0.900554235946\n",
      "Epoch: 20\n",
      "Valid Loss 0.000238269184459\n",
      "Valid Accuracy 0.983917600289\n",
      "Test Loss 0.00240707996103\n",
      "Test Accuracy 0.901741884402\n",
      "Epoch: 21\n",
      "Valid Loss 0.00021701867689\n",
      "Valid Accuracy 0.985724611493\n",
      "Test Loss 0.00241470742537\n",
      "Test Accuracy 0.90467141726\n",
      "Epoch: 22\n",
      "Valid Loss 0.000230173009113\n",
      "Valid Accuracy 0.984580171064\n",
      "Test Loss 0.00241748489327\n",
      "Test Accuracy 0.906017418844\n",
      "Epoch: 23\n",
      "Valid Loss 0.00024077671877\n",
      "Valid Accuracy 0.984399469943\n",
      "Test Loss 0.00247141886635\n",
      "Test Accuracy 0.90593824228\n",
      "Epoch: 24\n",
      "Valid Loss 0.000245738677883\n",
      "Valid Accuracy 0.983676665462\n",
      "Test Loss 0.00257584441539\n",
      "Test Accuracy 0.900950118765\n",
      "Epoch: 25\n",
      "Valid Loss 0.000228945795449\n",
      "Valid Accuracy 0.986025780027\n",
      "Test Loss 0.00245200921077\n",
      "Test Accuracy 0.90973871734\n",
      "Epoch: 26\n",
      "Valid Loss 0.000249097913925\n",
      "Valid Accuracy 0.984038067703\n",
      "Test Loss 0.00265058060534\n",
      "Test Accuracy 0.900950118765\n",
      "Epoch: 27\n",
      "Valid Loss 0.000240033557631\n",
      "Valid Accuracy 0.984760872184\n",
      "Test Loss 0.00263362106877\n",
      "Test Accuracy 0.904592240697\n",
      "Epoch: 28\n",
      "Valid Loss 0.000204404334495\n",
      "Valid Accuracy 0.987953258644\n",
      "Test Loss 0.00264980142917\n",
      "Test Accuracy 0.909897070467\n",
      "Epoch: 29\n",
      "Valid Loss 0.000205308247425\n",
      "Valid Accuracy 0.988133959764\n",
      "Test Loss 0.0025471126028\n",
      "Test Accuracy 0.910768012668\n",
      "Epoch: 30\n",
      "Valid Loss 0.000208419751269\n",
      "Valid Accuracy 0.987049753042\n",
      "Test Loss 0.0025575714789\n",
      "Test Accuracy 0.910926365796\n",
      "Epoch: 31\n",
      "Valid Loss 0.000201706454219\n",
      "Valid Accuracy 0.989097699072\n",
      "Test Loss 0.00252358729841\n",
      "Test Accuracy 0.912826603325\n",
      "Epoch: 32\n",
      "Valid Loss 0.00022342626105\n",
      "Valid Accuracy 0.988194193471\n",
      "Test Loss 0.00266159851685\n",
      "Test Accuracy 0.912589073634\n",
      "Epoch: 33\n",
      "Valid Loss 0.00017215679159\n",
      "Valid Accuracy 0.991085411396\n",
      "Test Loss 0.00234632035474\n",
      "Test Accuracy 0.918606492478\n",
      "Epoch: 34\n",
      "Valid Loss 0.000179995901795\n",
      "Valid Accuracy 0.990724009156\n",
      "Test Loss 0.00244259121913\n",
      "Test Accuracy 0.920110847189\n",
      "Epoch: 35\n",
      "Valid Loss 0.0001728458191\n",
      "Valid Accuracy 0.991266112517\n",
      "Test Loss 0.00254509427768\n",
      "Test Accuracy 0.920031670625\n",
      "Epoch: 36\n",
      "Valid Loss 0.000169584466606\n",
      "Valid Accuracy 0.99156728105\n",
      "Test Loss 0.00252142930824\n",
      "Test Accuracy 0.919714964371\n",
      "Epoch: 37\n",
      "Valid Loss 0.000169742527325\n",
      "Valid Accuracy 0.991627514757\n",
      "Test Loss 0.00255872303545\n",
      "Test Accuracy 0.920190023753\n",
      "Epoch: 38\n",
      "Valid Loss 0.000170632930973\n",
      "Valid Accuracy 0.991446813637\n",
      "Test Loss 0.00259622423213\n",
      "Test Accuracy 0.920427553444\n",
      "Epoch: 39\n",
      "Valid Loss 0.000172417463741\n",
      "Valid Accuracy 0.991627514757\n",
      "Test Loss 0.00263683604326\n",
      "Test Accuracy 0.920427553444\n",
      "Epoch: 40\n",
      "Valid Loss 0.000174013747114\n",
      "Valid Accuracy 0.991687748464\n",
      "Test Loss 0.00267620407818\n",
      "Test Accuracy 0.920031670625\n",
      "Epoch: 41\n",
      "Valid Loss 0.000175639117155\n",
      "Valid Accuracy 0.991507047344\n",
      "Test Loss 0.00271083832212\n",
      "Test Accuracy 0.920269200317\n",
      "Epoch: 42\n",
      "Valid Loss 0.000177413997987\n",
      "Valid Accuracy 0.991507047344\n",
      "Test Loss 0.00275094630411\n",
      "Test Accuracy 0.919952494062\n",
      "Epoch: 43\n",
      "Valid Loss 0.000179397321828\n",
      "Valid Accuracy 0.991446813637\n",
      "Test Loss 0.00278871186839\n",
      "Test Accuracy 0.920031670625\n",
      "Epoch: 44\n",
      "Valid Loss 0.000181086502422\n",
      "Valid Accuracy 0.99138657993\n",
      "Test Loss 0.00282707262964\n",
      "Test Accuracy 0.920427553444\n",
      "Epoch: 45\n",
      "Valid Loss 0.000183040233792\n",
      "Valid Accuracy 0.991446813637\n",
      "Test Loss 0.00286796836275\n",
      "Test Accuracy 0.919794140934\n",
      "Epoch: 46\n",
      "Valid Loss 0.000184932587007\n",
      "Valid Accuracy 0.991446813637\n",
      "Test Loss 0.00290995351587\n",
      "Test Accuracy 0.920031670625\n",
      "Epoch: 47\n",
      "Valid Loss 0.000187523230936\n",
      "Valid Accuracy 0.99156728105\n",
      "Test Loss 0.00295319527694\n",
      "Test Accuracy 0.919635787807\n",
      "Epoch: 48\n",
      "Valid Loss 0.000189576595278\n",
      "Valid Accuracy 0.991627514757\n",
      "Test Loss 0.00299498487444\n",
      "Test Accuracy 0.920110847189\n",
      "Epoch: 49\n",
      "Valid Loss 0.000192149119115\n",
      "Valid Accuracy 0.99156728105\n",
      "Test Loss 0.00304189294883\n",
      "Test Accuracy 0.919873317498\n",
      "Trained Model Saved.\n"
     ]
    }
   ],
   "source": [
    "\n",
    "# Calculates the loss from the logits and the labels.\n",
    "def loss(logits, labels):  \n",
    "#     one_hot_labels = tf.one_hot(labels, 43)\n",
    "    labels = tf.to_int64(labels)\n",
    "    cross_entropy = tf.nn.sparse_softmax_cross_entropy_with_logits(\n",
    "        labels=labels, logits=logits, name='xentropy')\n",
    "    return tf.reduce_mean(cross_entropy, name='xentropy_mean')\n",
    "\n",
    "# Sets up the training Ops.\n",
    "def training(loss, learning_rate):\n",
    "    # Add a scalar summary for the snapshot loss.\n",
    "    tf.summary.scalar('loss', loss)\n",
    "    # Create the gradient descent optimizer with the given learning rate.\n",
    "    optimizer = tf.train.AdamOptimizer(learning_rate = learning_rate)  # Create a variable to track the global step.\n",
    "    global_step = tf.Variable(0, name='global_step', trainable=False)\n",
    "    train_op = optimizer.minimize(loss, global_step=global_step)\n",
    "    return train_op\n",
    "\n",
    "#Evaluate the quality of the logits at predicting the label.\n",
    "def train_evaluate(logits, labels):\n",
    "    correct = tf.nn.in_top_k(logits, labels, 1)\n",
    "    # Return the number of true entries.\n",
    "    return tf.reduce_sum(tf.cast(correct, tf.int32))\n",
    "\n",
    "def evaluation(sess, img, label, cost, eval_correct, X_data, y_data, batch_size):\n",
    "    num_Img = len(X_data)\n",
    "    with tf.Graph().as_default():\n",
    "        total_loss = 0\n",
    "        total_accuracy = 0   \n",
    "        for j in range(0, num_Img, batch_size):\n",
    "            feed_X = X_data[j:j+batch_size]\n",
    "            feed_y = y_data[j:j+batch_size]\n",
    "            loss,correct = sess.run([cost, eval_correct], feed_dict={img:feed_X, label:feed_y})\n",
    "            total_loss += loss\n",
    "            total_accuracy += correct\n",
    "\n",
    "    return total_loss/num_Img, total_accuracy/num_Img\n",
    "\n",
    "\n",
    "def run_training(X_train, X_valid, X_test, y_train, y_valid, y_test, batch_size, epochs, learning_rate=0.0003):\n",
    "    num_Img = len(X_train)\n",
    "\n",
    "    with tf.Graph().as_default():\n",
    "        images_placeholder = tf.placeholder(tf.float32, shape=[None, 32, 32, 3])\n",
    "        labels_placeholder = tf.placeholder(tf.int32, shape=(None))\n",
    "        keep_prob = tf.placeholder(tf.float32)\n",
    "        logits = LeNet(images_placeholder, keep_prob)\n",
    "        cost = loss(logits, labels_placeholder)\n",
    "        train_operation = training(cost, learning_rate)\n",
    "        eval_correct = train_evaluate(logits, labels_placeholder)\n",
    "                                 \n",
    "        init = tf.global_variables_initializer()\n",
    "        sess = tf.Session()\n",
    "        sess.run(init)\n",
    "        for i in range(epochs):\n",
    "            for j in range(0, num_Img, batch_size):\n",
    "                feed_X = X_train[j:j+batch_size]\n",
    "                feed_y = y_train[j:j+batch_size]\n",
    "                _,train_accuracy = sess.run([train_operation, eval_correct],feed_dict={images_placeholder:feed_X, labels_placeholder:feed_y, keep_prob:0.5})\n",
    "#                 print (train_accuracy/batch_size)\n",
    "                \n",
    "           \n",
    "            print ('Epoch:',i)\n",
    "            valid_loss, valid_accuracy = evaluation(sess, images_placeholder, labels_placeholder, cost, eval_correct, X_valid, y_valid, batch_size)\n",
    "            print ('Valid Loss', valid_loss)\n",
    "            print ('Valid Accuracy', valid_accuracy)\n",
    "\n",
    "            test_loss, test_accuracy = evaluation(sess, images_placeholder, labels_placeholder, cost, eval_correct, X_test, y_test, batch_size)\n",
    "            print ('Test Loss', test_loss)\n",
    "            print ('Test Accuracy', test_accuracy)\n",
    "        \n",
    "        save_file = './train_model.ckpt'\n",
    "        saver = tf.train.Saver()\n",
    "        saver.save(sess, save_file)\n",
    "        print('Trained Model Saved.')\n",
    "                                    \n",
    "        \n",
    "EPOCHS = 50\n",
    "BATCH_SIZE = 256                                          \n",
    "run_training(Img_train, Img_valid, Img_test, y_train, y_valid, y_test, BATCH_SIZE, EPOCHS) \n"
   ]
  },
  {
   "cell_type": "code",
   "execution_count": null,
   "metadata": {
    "collapsed": true,
    "deletable": true,
    "editable": true
   },
   "outputs": [],
   "source": [
    "---/\n",
    "\n",
    "## Step 3: Test a Model on New Images\n",
    "\n",
    "To give yourself more insight into how your model is working, download at least five pictures of German traffic signs from the web and use your model to predict the traffic sign type.\n",
    "\n",
    "You may find `signnames.csv` useful as it contains mappings from the class id (integer) to the actual sign name."
   ]
  },
  {
   "cell_type": "markdown",
   "metadata": {
    "deletable": true,
    "editable": true
   },
   "source": [
    "### Load and Output the Images"
   ]
  },
  {
   "cell_type": "code",
   "execution_count": null,
   "metadata": {
    "collapsed": true,
    "deletable": true,
    "editable": true
   },
   "outputs": [],
   "source": [
    "### Load the images and plot them here.\n",
    "### Feel free to use as many code cells as needed."
   ]
  },
  {
   "cell_type": "markdown",
   "metadata": {
    "deletable": true,
    "editable": true
   },
   "source": [
    "### Predict the Sign Type for Each Image"
   ]
  },
  {
   "cell_type": "code",
   "execution_count": 3,
   "metadata": {
    "collapsed": true,
    "deletable": true,
    "editable": true
   },
   "outputs": [],
   "source": [
    "### Run the predictions here and use the model to output the prediction for each image.\n",
    "### Make sure to pre-process the images with the same pre-processing pipeline used earlier.\n",
    "### Feel free to use as many code cells as needed."
   ]
  },
  {
   "cell_type": "markdown",
   "metadata": {
    "deletable": true,
    "editable": true
   },
   "source": [
    "### Analyze Performance"
   ]
  },
  {
   "cell_type": "code",
   "execution_count": 4,
   "metadata": {
    "collapsed": true,
    "deletable": true,
    "editable": true
   },
   "outputs": [],
   "source": [
    "### Calculate the accuracy for these 5 new images. \n",
    "### For example, if the model predicted 1 out of 5 signs correctly, it's 20% accurate on these new images."
   ]
  },
  {
   "cell_type": "markdown",
   "metadata": {
    "deletable": true,
    "editable": true
   },
   "source": [
    "### Output Top 5 Softmax Probabilities For Each Image Found on the Web"
   ]
  },
  {
   "cell_type": "markdown",
   "metadata": {
    "deletable": true,
    "editable": true
   },
   "source": [
    "For each of the new images, print out the model's softmax probabilities to show the **certainty** of the model's predictions (limit the output to the top 5 probabilities for each image). [`tf.nn.top_k`](https://www.tensorflow.org/versions/r0.12/api_docs/python/nn.html#top_k) could prove helpful here. \n",
    "\n",
    "The example below demonstrates how tf.nn.top_k can be used to find the top k predictions for each image.\n",
    "\n",
    "`tf.nn.top_k` will return the values and indices (class ids) of the top k predictions. So if k=3, for each sign, it'll return the 3 largest probabilities (out of a possible 43) and the correspoding class ids.\n",
    "\n",
    "Take this numpy array as an example. The values in the array represent predictions. The array contains softmax probabilities for five candidate images with six possible classes. `tk.nn.top_k` is used to choose the three classes with the highest probability:\n",
    "\n",
    "```\n",
    "# (5, 6) array\n",
    "a = np.array([[ 0.24879643,  0.07032244,  0.12641572,  0.34763842,  0.07893497,\n",
    "         0.12789202],\n",
    "       [ 0.28086119,  0.27569815,  0.08594638,  0.0178669 ,  0.18063401,\n",
    "         0.15899337],\n",
    "       [ 0.26076848,  0.23664738,  0.08020603,  0.07001922,  0.1134371 ,\n",
    "         0.23892179],\n",
    "       [ 0.11943333,  0.29198961,  0.02605103,  0.26234032,  0.1351348 ,\n",
    "         0.16505091],\n",
    "       [ 0.09561176,  0.34396535,  0.0643941 ,  0.16240774,  0.24206137,\n",
    "         0.09155967]])\n",
    "```\n",
    "\n",
    "Running it through `sess.run(tf.nn.top_k(tf.constant(a), k=3))` produces:\n",
    "\n",
    "```\n",
    "TopKV2(values=array([[ 0.34763842,  0.24879643,  0.12789202],\n",
    "       [ 0.28086119,  0.27569815,  0.18063401],\n",
    "       [ 0.26076848,  0.23892179,  0.23664738],\n",
    "       [ 0.29198961,  0.26234032,  0.16505091],\n",
    "       [ 0.34396535,  0.24206137,  0.16240774]]), indices=array([[3, 0, 5],\n",
    "       [0, 1, 4],\n",
    "       [0, 5, 1],\n",
    "       [1, 3, 5],\n",
    "       [1, 4, 3]], dtype=int32))\n",
    "```\n",
    "\n",
    "Looking just at the first row we get `[ 0.34763842,  0.24879643,  0.12789202]`, you can confirm these are the 3 largest probabilities in `a`. You'll also notice `[3, 0, 5]` are the corresponding indices."
   ]
  },
  {
   "cell_type": "code",
   "execution_count": 6,
   "metadata": {
    "collapsed": true,
    "deletable": true,
    "editable": true
   },
   "outputs": [],
   "source": [
    "### Print out the top five softmax probabilities for the predictions on the German traffic sign images found on the web. \n",
    "### Feel free to use as many code cells as needed."
   ]
  },
  {
   "cell_type": "markdown",
   "metadata": {
    "deletable": true,
    "editable": true
   },
   "source": [
    "---\n",
    "\n",
    "## Step 4: Visualize the Neural Network's State with Test Images\n",
    "\n",
    " This Section is not required to complete but acts as an additional excersise for understaning the output of a neural network's weights. While neural networks can be a great learning device they are often referred to as a black box. We can understand what the weights of a neural network look like better by plotting their feature maps. After successfully training your neural network you can see what it's feature maps look like by plotting the output of the network's weight layers in response to a test stimuli image. From these plotted feature maps, it's possible to see what characteristics of an image the network finds interesting. For a sign, maybe the inner network feature maps react with high activation to the sign's boundary outline or to the contrast in the sign's painted symbol.\n",
    "\n",
    " Provided for you below is the function code that allows you to get the visualization output of any tensorflow weight layer you want. The inputs to the function should be a stimuli image, one used during training or a new one you provided, and then the tensorflow variable name that represents the layer's state during the training process, for instance if you wanted to see what the [LeNet lab's](https://classroom.udacity.com/nanodegrees/nd013/parts/fbf77062-5703-404e-b60c-95b78b2f3f9e/modules/6df7ae49-c61c-4bb2-a23e-6527e69209ec/lessons/601ae704-1035-4287-8b11-e2c2716217ad/concepts/d4aca031-508f-4e0b-b493-e7b706120f81) feature maps looked like for it's second convolutional layer you could enter conv2 as the tf_activation variable.\n",
    "\n",
    "For an example of what feature map outputs look like, check out NVIDIA's results in their paper [End-to-End Deep Learning for Self-Driving Cars](https://devblogs.nvidia.com/parallelforall/deep-learning-self-driving-cars/) in the section Visualization of internal CNN State. NVIDIA was able to show that their network's inner weights had high activations to road boundary lines by comparing feature maps from an image with a clear path to one without. Try experimenting with a similar test to show that your trained network's weights are looking for interesting features, whether it's looking at differences in feature maps from images with or without a sign, or even what feature maps look like in a trained network vs a completely untrained one on the same sign image.\n",
    "\n",
    "<figure>\n",
    " <img src=\"visualize_cnn.png\" width=\"380\" alt=\"Combined Image\" />\n",
    " <figcaption>\n",
    " <p></p> \n",
    " <p style=\"text-align: center;\"> Your output should look something like this (above)</p> \n",
    " </figcaption>\n",
    "</figure>\n",
    " <p></p> \n"
   ]
  },
  {
   "cell_type": "code",
   "execution_count": null,
   "metadata": {
    "collapsed": true,
    "deletable": true,
    "editable": true
   },
   "outputs": [],
   "source": [
    "### Visualize your network's feature maps here.\n",
    "### Feel free to use as many code cells as needed.\n",
    "\n",
    "# image_input: the test image being fed into the network to produce the feature maps\n",
    "# tf_activation: should be a tf variable name used during your training procedure that represents the calculated state of a specific weight layer\n",
    "# activation_min/max: can be used to view the activation contrast in more detail, by default matplot sets min and max to the actual min and max values of the output\n",
    "# plt_num: used to plot out multiple different weight feature map sets on the same block, just extend the plt number for each new feature map entry\n",
    "\n",
    "def outputFeatureMap(image_input, tf_activation, activation_min=-1, activation_max=-1 ,plt_num=1):\n",
    "    # Here make sure to preprocess your image_input in a way your network expects\n",
    "    # with size, normalization, ect if needed\n",
    "    # image_input =\n",
    "    # Note: x should be the same name as your network's tensorflow data placeholder variable\n",
    "    # If you get an error tf_activation is not defined it maybe having trouble accessing the variable from inside a function\n",
    "    activation = tf_activation.eval(session=sess,feed_dict={x : image_input})\n",
    "    featuremaps = activation.shape[3]\n",
    "    plt.figure(plt_num, figsize=(15,15))\n",
    "    for featuremap in range(featuremaps):\n",
    "        plt.subplot(6,8, featuremap+1) # sets the number of feature maps to show on each row and column\n",
    "        plt.title('FeatureMap ' + str(featuremap)) # displays the feature map number\n",
    "        if activation_min != -1 & activation_max != -1:\n",
    "            plt.imshow(activation[0,:,:, featuremap], interpolation=\"nearest\", vmin =activation_min, vmax=activation_max, cmap=\"gray\")\n",
    "        elif activation_max != -1:\n",
    "            plt.imshow(activation[0,:,:, featuremap], interpolation=\"nearest\", vmax=activation_max, cmap=\"gray\")\n",
    "        elif activation_min !=-1:\n",
    "            plt.imshow(activation[0,:,:, featuremap], interpolation=\"nearest\", vmin=activation_min, cmap=\"gray\")\n",
    "        else:\n",
    "            plt.imshow(activation[0,:,:, featuremap], interpolation=\"nearest\", cmap=\"gray\")"
   ]
  },
  {
   "cell_type": "markdown",
   "metadata": {
    "deletable": true,
    "editable": true
   },
   "source": [
    "### Question 9\n",
    "\n",
    "Discuss how you used the visual output of your trained network's feature maps to show that it had learned to look for interesting characteristics in traffic sign images\n"
   ]
  },
  {
   "cell_type": "markdown",
   "metadata": {
    "deletable": true,
    "editable": true
   },
   "source": [
    "**Answer:**"
   ]
  },
  {
   "cell_type": "markdown",
   "metadata": {
    "deletable": true,
    "editable": true
   },
   "source": [
    "> **Note**: Once you have completed all of the code implementations and successfully answered each question above, you may finalize your work by exporting the iPython Notebook as an HTML document. You can do this by using the menu above and navigating to  \\n\",\n",
    "    \"**File -> Download as -> HTML (.html)**. Include the finished document along with this notebook as your submission."
   ]
  },
  {
   "cell_type": "markdown",
   "metadata": {
    "deletable": true,
    "editable": true
   },
   "source": [
    "### Project Writeup\n",
    "\n",
    "Once you have completed the code implementation, document your results in a project writeup using this [template](https://github.com/udacity/CarND-Traffic-Sign-Classifier-Project/blob/master/writeup_template.md) as a guide. The writeup can be in a markdown or pdf file. "
   ]
  }
 ],
 "metadata": {
  "anaconda-cloud": {},
  "kernelspec": {
   "display_name": "Python 3",
   "language": "python",
   "name": "python3"
  },
  "language_info": {
   "codemirror_mode": {
    "name": "ipython",
    "version": 3
   },
   "file_extension": ".py",
   "mimetype": "text/x-python",
   "name": "python",
   "nbconvert_exporter": "python",
   "pygments_lexer": "ipython3",
   "version": "3.5.2"
  }
 },
 "nbformat": 4,
 "nbformat_minor": 1
}
